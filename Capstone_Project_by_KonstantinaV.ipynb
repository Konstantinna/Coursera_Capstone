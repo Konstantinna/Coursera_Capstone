{
 "cells": [
  {
   "cell_type": "markdown",
   "metadata": {},
   "source": [
    "# Capstone Project  | IBM Data Science Specialization\n",
    "_By Konstantina Vasileva_\n",
    "\n",
    "This Jupyter notebook will focus mainly on project assignments for the IBM Data Science Specialization and tasks designed by Alex Aklson. It was pushed to GitHub with the help of [Alex Aklson's Guidelines on Medium](https://medium.com/@aklson_DS/how-to-properly-setup-your-github-repository-windows-version-ea596b398b)"
   ]
  },
  {
   "cell_type": "markdown",
   "metadata": {},
   "source": [
    "## Week 1 | Location data\n",
    "- in addition to geo coordinates in latitude & longitude values, location data can also contain additional details on venue category, work hours etc\n",
    "- location data providers (Foursquare, Google Places, Yelp) differ in a variety of features (rate limits, cost to fetching location data from their API, coverage, accuracy (e.g is it crowdsourced or QA-ed), update frequency (daily, weekly, etc)\n",
    "- this capstone project would use Foursquare data\n"
   ]
  },
  {
   "cell_type": "code",
   "execution_count": 3,
   "metadata": {},
   "outputs": [
    {
     "name": "stdout",
     "output_type": "stream",
     "text": [
      "Hello Capstone Project Course!\n"
     ]
    }
   ],
   "source": [
    "# Step 1 | Loading the key libraries\n",
    "import pandas as pd\n",
    "import numpy as np\n",
    "print (\"Hello Capstone Project Course!\")"
   ]
  }
 ],
 "metadata": {
  "kernelspec": {
   "display_name": "Python 3",
   "language": "python",
   "name": "python3"
  },
  "language_info": {
   "codemirror_mode": {
    "name": "ipython",
    "version": 3
   },
   "file_extension": ".py",
   "mimetype": "text/x-python",
   "name": "python",
   "nbconvert_exporter": "python",
   "pygments_lexer": "ipython3",
   "version": "3.7.3"
  }
 },
 "nbformat": 4,
 "nbformat_minor": 2
}
