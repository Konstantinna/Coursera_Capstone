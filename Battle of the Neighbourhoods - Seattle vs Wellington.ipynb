{
 "cells": [
  {
   "cell_type": "markdown",
   "metadata": {},
   "source": [
    "# Capstone Project | Seatle vs Wellington Housing Prices"
   ]
  },
  {
   "attachments": {},
   "cell_type": "markdown",
   "metadata": {},
   "source": [
    "For this week, you will required to submit the following:\n",
    "- A description of the problem and a discussion of the background. (15 marks)\n",
    "- A description of the data and how it will be used to solve the problem. (15 marks)"
   ]
  },
  {
   "cell_type": "markdown",
   "metadata": {},
   "source": [
    "## The Problem | Background\n"
   ]
  },
  {
   "cell_type": "markdown",
   "metadata": {},
   "source": [
    "International and within-country migration trends are contributing to a constantly growing demand for housing in big developed cities. The growing demand is driving the prices of properties up, creating an __ongoing housing problem, especially in major cities__. \n",
    "\n",
    "### There are multiple reasons for this and some of the key ones are:\n",
    "- Growing global population\n",
    "- Urban migration within countries\n",
    "- New international businesses attracting global talent and creating a sudden surge in demand\n",
    "- International investors and private buyers purchasing property and holding it off the market, creating shortages in supply as demand is rising\n",
    "\n",
    "\n",
    "### The cities\n",
    "I lived in Seattle, WA for a year and now I am based in Wellington, New Zealand. I see multiple parallels within the two cities located on two oposite ends of the Pacific Ocean:\n",
    "- both have relatively small size (less than 1 mln) compared to global megacities with multimilion population\n",
    "- both have a relatively compact CBD with most of the population living in various residential areas and suburbs\n",
    "- both have large Asian communities, increasingly investing in buying property in recent years\n",
    "- both have an increasingly serious problem with housing prices and availability\n",
    "\n",
    "### The Goal \n",
    "__I want to cluster neighbourhoods by rental price and compare the trends across the two cities by using available official data. Then based on rental price comparisons for the cost of living (and renting out property) I would consider the market supply of existing coffee businesses and their type: big chains, small local businesses,etc.__.\n",
    "\n",
    "If I want to create a small business in one of the two cities, I would be interested in multiple things, including rental prices. I also have an idea about a second part of the project focusing on coffee businesses which will use the Foursquare API.\n"
   ]
  },
  {
   "cell_type": "markdown",
   "metadata": {},
   "source": [
    "## The Data\n",
    "\n",
    "I would need:\n",
    "- geospatial data with neighbourhood info for the two cities\n",
    "- datasets with rental prices\n",
    "- local coffee businesses information from the Foursquare API\n",
    "\n",
    "I would like to use Government Open Data, Official Statistics datasets and Foursquare to make sure the data is __reliable and representative__.\n",
    "\n",
    "Both types of data are available through Open Data and Statistics databases online. In this case I would not have to scrape data but just use existing datasets. There isn't a single repository of information for both types of information so I will use several sources. \n",
    "\n",
    "__All datasets are in .csv format. Geo data features Latitude and longitude, rental data is either by week (NZ) or month  (US), so I will have to do some transformations to make sure I have the same measurment unit.\n",
    "\n",
    "#### Seattle \n",
    "- Neighbourhoods geo data from [Seattle.gov](https://www.seattle.gov/opcd/population-and-demographics/geographic-files-and-maps)\n",
    "- [Rental data (last updated in September 2019)](https://www.rentcafe.com/average-rent-market-trends/us/wa/seattle/) \n",
    "- Foursquare API data for cafes\n",
    "\n",
    "#### Wellington\n",
    "- Neighbourhoods geo data from [Wellington City Council](https://data-wcc.opendata.arcgis.com/datasets/f534738cf3e648f7b1524a9697376764_0) \n",
    "- Rental data [Stats.govt.nz](https://www.stats.govt.nz/information-releases/rental-price-indexes-july-2019)\n",
    "- Foursquare API data for cafes\n"
   ]
  },
  {
   "cell_type": "markdown",
   "metadata": {},
   "source": [
    "(To be continued next week)"
   ]
  },
  {
   "cell_type": "code",
   "execution_count": null,
   "metadata": {},
   "outputs": [],
   "source": []
  }
 ],
 "metadata": {
  "kernelspec": {
   "display_name": "Python 3",
   "language": "python",
   "name": "python3"
  },
  "language_info": {
   "codemirror_mode": {
    "name": "ipython",
    "version": 3
   },
   "file_extension": ".py",
   "mimetype": "text/x-python",
   "name": "python",
   "nbconvert_exporter": "python",
   "pygments_lexer": "ipython3",
   "version": "3.7.3"
  }
 },
 "nbformat": 4,
 "nbformat_minor": 2
}
